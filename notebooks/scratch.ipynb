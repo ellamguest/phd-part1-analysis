{
 "cells": [
  {
   "cell_type": "code",
   "execution_count": 1,
   "metadata": {},
   "outputs": [],
   "source": [
    "from tools import *"
   ]
  },
  {
   "cell_type": "code",
   "execution_count": 2,
   "metadata": {},
   "outputs": [
    {
     "data": {
      "text/html": [
       "<div>\n",
       "<style scoped>\n",
       "    .dataframe tbody tr th:only-of-type {\n",
       "        vertical-align: middle;\n",
       "    }\n",
       "\n",
       "    .dataframe tbody tr th {\n",
       "        vertical-align: top;\n",
       "    }\n",
       "\n",
       "    .dataframe thead th {\n",
       "        text-align: right;\n",
       "    }\n",
       "</style>\n",
       "<table border=\"1\" class=\"dataframe\">\n",
       "  <thead>\n",
       "    <tr style=\"text-align: right;\">\n",
       "      <th></th>\n",
       "      <th>author</th>\n",
       "      <th>subreddit</th>\n",
       "    </tr>\n",
       "  </thead>\n",
       "  <tbody>\n",
       "    <tr>\n",
       "      <th>0</th>\n",
       "      <td>istandabove</td>\n",
       "      <td>aww</td>\n",
       "    </tr>\n",
       "    <tr>\n",
       "      <th>1</th>\n",
       "      <td>KitchenMafia</td>\n",
       "      <td>aww</td>\n",
       "    </tr>\n",
       "    <tr>\n",
       "      <th>2</th>\n",
       "      <td>JoonWick</td>\n",
       "      <td>aww</td>\n",
       "    </tr>\n",
       "    <tr>\n",
       "      <th>3</th>\n",
       "      <td>LB_01</td>\n",
       "      <td>nba</td>\n",
       "    </tr>\n",
       "    <tr>\n",
       "      <th>4</th>\n",
       "      <td>TheFencingCoach</td>\n",
       "      <td>nfl</td>\n",
       "    </tr>\n",
       "  </tbody>\n",
       "</table>\n",
       "</div>"
      ],
      "text/plain": [
       "            author subreddit\n",
       "0      istandabove       aww\n",
       "1     KitchenMafia       aww\n",
       "2         JoonWick       aww\n",
       "3            LB_01       nba\n",
       "4  TheFencingCoach       nfl"
      ]
     },
     "execution_count": 2,
     "metadata": {},
     "output_type": "execute_result"
    }
   ],
   "source": [
    "df = fetchQuery(\"\"\"SELECT author, subreddit\n",
    "FROM `author-subreddit-counts.2018.01` \n",
    "LIMIT 100\"\"\")\n",
    "\n",
    "df.head()"
   ]
  },
  {
   "cell_type": "code",
   "execution_count": 3,
   "metadata": {},
   "outputs": [],
   "source": [
    "import scipy as sp\n",
    "\n",
    "top='subreddit'\n",
    "bottom='author'\n",
    "\n",
    "top = df[top].values\n",
    "bot = df[bottom].values\n",
    "\n",
    "top_unique, top_indices = sp.unique(top, return_inverse=True)\n",
    "bot_unique, bot_indices = sp.unique(bot, return_inverse=True)"
   ]
  },
  {
   "cell_type": "code",
   "execution_count": 4,
   "metadata": {},
   "outputs": [],
   "source": [
    "from scipy import sparse\n",
    "\n",
    "data = sp.ones(len(top))\n",
    "incidence = sparse.coo_matrix((data, (top_indices, top_indices)))\n",
    "adj = incidence.dot(incidence.T)\n",
    "\n",
    "result = pd.SparseDataFrame(adj).stack()"
   ]
  },
  {
   "cell_type": "code",
   "execution_count": 6,
   "metadata": {},
   "outputs": [],
   "source": [
    "clean = result.reset_index()\n",
    "clean.columns = ['i','j','k']\n",
    "\n",
    "topNames = dict(zip(top_indices,top))\n",
    "clean['i'] = clean['i'].map(lambda x: topNames[x])\n",
    "clean['j'] = clean['j'].map(lambda x: topNames[x])\n",
    "\n",
    "clean.head()"
   ]
  },
  {
   "cell_type": "code",
   "execution_count": 8,
   "metadata": {},
   "outputs": [],
   "source": [
    "## create and store table"
   ]
  },
  {
   "cell_type": "code",
   "execution_count": 9,
   "metadata": {},
   "outputs": [],
   "source": [
    "from google.cloud import bigquery\n",
    "from google.cloud.bigquery import SchemaField\n",
    "\n",
    "dataset = client().dataset(\"edgeweights2018\")\n",
    "\n",
    "SCHEMA = [\n",
    "    SchemaField('i', 'STRING', mode='required'),\n",
    "    SchemaField('j', 'STRING', mode='required'),\n",
    "    SchemaField('k', 'INTEGER', mode='required'),\n",
    "]\n",
    "\n",
    "table_ref = dataset.table('01')\n",
    "table = bigquery.Table(table_ref, schema=SCHEMA)\n",
    "#table = client().create_table(table)"
   ]
  },
  {
   "cell_type": "code",
   "execution_count": 10,
   "metadata": {
    "scrolled": true
   },
   "outputs": [
    {
     "ename": "ImportError",
     "evalue": "Load data from Google BigQuery\n\nthe pandas-gbq package is not installed\nsee the docs: https://pandas-gbq.readthedocs.io\n\nyou can install via pip or conda:\npip install pandas-gbq\nconda install pandas-gbq -c conda-forge\n",
     "output_type": "error",
     "traceback": [
      "\u001b[0;31m---------------------------------------------------------------------------\u001b[0m",
      "\u001b[0;31mModuleNotFoundError\u001b[0m                       Traceback (most recent call last)",
      "\u001b[0;32m/anaconda3/lib/python3.6/site-packages/pandas/io/gbq.py\u001b[0m in \u001b[0;36m_try_import\u001b[0;34m()\u001b[0m\n\u001b[1;32m      7\u001b[0m     \u001b[0;32mtry\u001b[0m\u001b[0;34m:\u001b[0m\u001b[0;34m\u001b[0m\u001b[0m\n\u001b[0;32m----> 8\u001b[0;31m         \u001b[0;32mimport\u001b[0m \u001b[0mpandas_gbq\u001b[0m\u001b[0;34m\u001b[0m\u001b[0m\n\u001b[0m\u001b[1;32m      9\u001b[0m     \u001b[0;32mexcept\u001b[0m \u001b[0mImportError\u001b[0m\u001b[0;34m:\u001b[0m\u001b[0;34m\u001b[0m\u001b[0m\n",
      "\u001b[0;31mModuleNotFoundError\u001b[0m: No module named 'pandas_gbq'",
      "\nDuring handling of the above exception, another exception occurred:\n",
      "\u001b[0;31mImportError\u001b[0m                               Traceback (most recent call last)",
      "\u001b[0;32m<ipython-input-10-0009f4c15450>\u001b[0m in \u001b[0;36m<module>\u001b[0;34m()\u001b[0m\n\u001b[0;32m----> 1\u001b[0;31m \u001b[0mclean\u001b[0m\u001b[0;34m.\u001b[0m\u001b[0mto_gbq\u001b[0m\u001b[0;34m(\u001b[0m\u001b[0;34m\"edgeweights2018.01\"\u001b[0m\u001b[0;34m,\u001b[0m \u001b[0;34m\"author-subreddit-counts\"\u001b[0m\u001b[0;34m,\u001b[0m \u001b[0mchunksize\u001b[0m\u001b[0;34m=\u001b[0m\u001b[0;36m100\u001b[0m\u001b[0;34m,\u001b[0m \u001b[0mif_exists\u001b[0m\u001b[0;34m=\u001b[0m\u001b[0;34m'append'\u001b[0m\u001b[0;34m)\u001b[0m\u001b[0;34m\u001b[0m\u001b[0m\n\u001b[0m",
      "\u001b[0;32m/anaconda3/lib/python3.6/site-packages/pandas/core/frame.py\u001b[0m in \u001b[0;36mto_gbq\u001b[0;34m(self, destination_table, project_id, chunksize, verbose, reauth, if_exists, private_key, auth_local_webserver, table_schema)\u001b[0m\n\u001b[1;32m   1185\u001b[0m             \u001b[0mverbose\u001b[0m\u001b[0;34m=\u001b[0m\u001b[0mverbose\u001b[0m\u001b[0;34m,\u001b[0m \u001b[0mreauth\u001b[0m\u001b[0;34m=\u001b[0m\u001b[0mreauth\u001b[0m\u001b[0;34m,\u001b[0m \u001b[0mif_exists\u001b[0m\u001b[0;34m=\u001b[0m\u001b[0mif_exists\u001b[0m\u001b[0;34m,\u001b[0m\u001b[0;34m\u001b[0m\u001b[0m\n\u001b[1;32m   1186\u001b[0m             \u001b[0mprivate_key\u001b[0m\u001b[0;34m=\u001b[0m\u001b[0mprivate_key\u001b[0m\u001b[0;34m,\u001b[0m \u001b[0mauth_local_webserver\u001b[0m\u001b[0;34m=\u001b[0m\u001b[0mauth_local_webserver\u001b[0m\u001b[0;34m,\u001b[0m\u001b[0;34m\u001b[0m\u001b[0m\n\u001b[0;32m-> 1187\u001b[0;31m             table_schema=table_schema)\n\u001b[0m\u001b[1;32m   1188\u001b[0m \u001b[0;34m\u001b[0m\u001b[0m\n\u001b[1;32m   1189\u001b[0m     \u001b[0;34m@\u001b[0m\u001b[0mclassmethod\u001b[0m\u001b[0;34m\u001b[0m\u001b[0m\n",
      "\u001b[0;32m/anaconda3/lib/python3.6/site-packages/pandas/io/gbq.py\u001b[0m in \u001b[0;36mto_gbq\u001b[0;34m(dataframe, destination_table, project_id, chunksize, verbose, reauth, if_exists, private_key, auth_local_webserver, table_schema)\u001b[0m\n\u001b[1;32m    112\u001b[0m            \u001b[0mverbose\u001b[0m\u001b[0;34m=\u001b[0m\u001b[0;32mNone\u001b[0m\u001b[0;34m,\u001b[0m \u001b[0mreauth\u001b[0m\u001b[0;34m=\u001b[0m\u001b[0;32mFalse\u001b[0m\u001b[0;34m,\u001b[0m \u001b[0mif_exists\u001b[0m\u001b[0;34m=\u001b[0m\u001b[0;34m'fail'\u001b[0m\u001b[0;34m,\u001b[0m \u001b[0mprivate_key\u001b[0m\u001b[0;34m=\u001b[0m\u001b[0;32mNone\u001b[0m\u001b[0;34m,\u001b[0m\u001b[0;34m\u001b[0m\u001b[0m\n\u001b[1;32m    113\u001b[0m            auth_local_webserver=False, table_schema=None):\n\u001b[0;32m--> 114\u001b[0;31m     \u001b[0mpandas_gbq\u001b[0m \u001b[0;34m=\u001b[0m \u001b[0m_try_import\u001b[0m\u001b[0;34m(\u001b[0m\u001b[0;34m)\u001b[0m\u001b[0;34m\u001b[0m\u001b[0m\n\u001b[0m\u001b[1;32m    115\u001b[0m     return pandas_gbq.to_gbq(\n\u001b[1;32m    116\u001b[0m         \u001b[0mdataframe\u001b[0m\u001b[0;34m,\u001b[0m \u001b[0mdestination_table\u001b[0m\u001b[0;34m,\u001b[0m \u001b[0mproject_id\u001b[0m\u001b[0;34m,\u001b[0m \u001b[0mchunksize\u001b[0m\u001b[0;34m=\u001b[0m\u001b[0mchunksize\u001b[0m\u001b[0;34m,\u001b[0m\u001b[0;34m\u001b[0m\u001b[0m\n",
      "\u001b[0;32m/anaconda3/lib/python3.6/site-packages/pandas/io/gbq.py\u001b[0m in \u001b[0;36m_try_import\u001b[0;34m()\u001b[0m\n\u001b[1;32m     10\u001b[0m \u001b[0;34m\u001b[0m\u001b[0m\n\u001b[1;32m     11\u001b[0m         \u001b[0;31m# give a nice error message\u001b[0m\u001b[0;34m\u001b[0m\u001b[0;34m\u001b[0m\u001b[0m\n\u001b[0;32m---> 12\u001b[0;31m         raise ImportError(\"Load data from Google BigQuery\\n\"\n\u001b[0m\u001b[1;32m     13\u001b[0m                           \u001b[0;34m\"\\n\"\u001b[0m\u001b[0;34m\u001b[0m\u001b[0m\n\u001b[1;32m     14\u001b[0m                           \u001b[0;34m\"the pandas-gbq package is not installed\\n\"\u001b[0m\u001b[0;34m\u001b[0m\u001b[0m\n",
      "\u001b[0;31mImportError\u001b[0m: Load data from Google BigQuery\n\nthe pandas-gbq package is not installed\nsee the docs: https://pandas-gbq.readthedocs.io\n\nyou can install via pip or conda:\npip install pandas-gbq\nconda install pandas-gbq -c conda-forge\n"
     ]
    }
   ],
   "source": [
    "clean.to_gbq(\"edgeweights2018.01\", \"author-subreddit-counts\", chunksize=100, if_exists='append')"
   ]
  },
  {
   "cell_type": "code",
   "execution_count": null,
   "metadata": {},
   "outputs": [],
   "source": [
    "import pandas as pd"
   ]
  },
  {
   "cell_type": "code",
   "execution_count": null,
   "metadata": {},
   "outputs": [],
   "source": [
    "table?"
   ]
  },
  {
   "cell_type": "code",
   "execution_count": 11,
   "metadata": {},
   "outputs": [
    {
     "ename": "ImportError",
     "evalue": "Unable to find a usable engine; tried using: 'pyarrow', 'fastparquet'.\npyarrow or fastparquet is required for parquet support",
     "output_type": "error",
     "traceback": [
      "\u001b[0;31m---------------------------------------------------------------------------\u001b[0m",
      "\u001b[0;31mImportError\u001b[0m                               Traceback (most recent call last)",
      "\u001b[0;32m<ipython-input-11-e77b9494451c>\u001b[0m in \u001b[0;36m<module>\u001b[0;34m()\u001b[0m\n\u001b[1;32m      1\u001b[0m \u001b[0mc\u001b[0m \u001b[0;34m=\u001b[0m \u001b[0mclient\u001b[0m\u001b[0;34m(\u001b[0m\u001b[0;34m)\u001b[0m\u001b[0;34m\u001b[0m\u001b[0m\n\u001b[1;32m      2\u001b[0m \u001b[0;34m\u001b[0m\u001b[0m\n\u001b[0;32m----> 3\u001b[0;31m \u001b[0mc\u001b[0m\u001b[0;34m.\u001b[0m\u001b[0mload_table_from_dataframe\u001b[0m\u001b[0;34m(\u001b[0m\u001b[0mclean\u001b[0m\u001b[0;34m,\u001b[0m \u001b[0mtable\u001b[0m\u001b[0;34m)\u001b[0m\u001b[0;34m\u001b[0m\u001b[0m\n\u001b[0m",
      "\u001b[0;32m/anaconda3/lib/python3.6/site-packages/google/cloud/bigquery/client.py\u001b[0m in \u001b[0;36mload_table_from_dataframe\u001b[0;34m(self, dataframe, destination, num_retries, job_id, job_id_prefix, location, project, job_config)\u001b[0m\n\u001b[1;32m    897\u001b[0m         \"\"\"\n\u001b[1;32m    898\u001b[0m         \u001b[0mbuffer\u001b[0m \u001b[0;34m=\u001b[0m \u001b[0msix\u001b[0m\u001b[0;34m.\u001b[0m\u001b[0mBytesIO\u001b[0m\u001b[0;34m(\u001b[0m\u001b[0;34m)\u001b[0m\u001b[0;34m\u001b[0m\u001b[0m\n\u001b[0;32m--> 899\u001b[0;31m         \u001b[0mdataframe\u001b[0m\u001b[0;34m.\u001b[0m\u001b[0mto_parquet\u001b[0m\u001b[0;34m(\u001b[0m\u001b[0mbuffer\u001b[0m\u001b[0;34m)\u001b[0m\u001b[0;34m\u001b[0m\u001b[0m\n\u001b[0m\u001b[1;32m    900\u001b[0m \u001b[0;34m\u001b[0m\u001b[0m\n\u001b[1;32m    901\u001b[0m         \u001b[0;32mif\u001b[0m \u001b[0mjob_config\u001b[0m \u001b[0;32mis\u001b[0m \u001b[0;32mNone\u001b[0m\u001b[0;34m:\u001b[0m\u001b[0;34m\u001b[0m\u001b[0m\n",
      "\u001b[0;32m/anaconda3/lib/python3.6/site-packages/pandas/core/frame.py\u001b[0m in \u001b[0;36mto_parquet\u001b[0;34m(self, fname, engine, compression, **kwargs)\u001b[0m\n\u001b[1;32m   1940\u001b[0m         \u001b[0;32mfrom\u001b[0m \u001b[0mpandas\u001b[0m\u001b[0;34m.\u001b[0m\u001b[0mio\u001b[0m\u001b[0;34m.\u001b[0m\u001b[0mparquet\u001b[0m \u001b[0;32mimport\u001b[0m \u001b[0mto_parquet\u001b[0m\u001b[0;34m\u001b[0m\u001b[0m\n\u001b[1;32m   1941\u001b[0m         to_parquet(self, fname, engine,\n\u001b[0;32m-> 1942\u001b[0;31m                    compression=compression, **kwargs)\n\u001b[0m\u001b[1;32m   1943\u001b[0m \u001b[0;34m\u001b[0m\u001b[0m\n\u001b[1;32m   1944\u001b[0m     @Substitution(header='Write out the column names. If a list of strings '\n",
      "\u001b[0;32m/anaconda3/lib/python3.6/site-packages/pandas/io/parquet.py\u001b[0m in \u001b[0;36mto_parquet\u001b[0;34m(df, path, engine, compression, **kwargs)\u001b[0m\n\u001b[1;32m    254\u001b[0m         \u001b[0mAdditional\u001b[0m \u001b[0mkeyword\u001b[0m \u001b[0marguments\u001b[0m \u001b[0mpassed\u001b[0m \u001b[0mto\u001b[0m \u001b[0mthe\u001b[0m \u001b[0mengine\u001b[0m\u001b[0;34m\u001b[0m\u001b[0m\n\u001b[1;32m    255\u001b[0m     \"\"\"\n\u001b[0;32m--> 256\u001b[0;31m     \u001b[0mimpl\u001b[0m \u001b[0;34m=\u001b[0m \u001b[0mget_engine\u001b[0m\u001b[0;34m(\u001b[0m\u001b[0mengine\u001b[0m\u001b[0;34m)\u001b[0m\u001b[0;34m\u001b[0m\u001b[0m\n\u001b[0m\u001b[1;32m    257\u001b[0m     \u001b[0;32mreturn\u001b[0m \u001b[0mimpl\u001b[0m\u001b[0;34m.\u001b[0m\u001b[0mwrite\u001b[0m\u001b[0;34m(\u001b[0m\u001b[0mdf\u001b[0m\u001b[0;34m,\u001b[0m \u001b[0mpath\u001b[0m\u001b[0;34m,\u001b[0m \u001b[0mcompression\u001b[0m\u001b[0;34m=\u001b[0m\u001b[0mcompression\u001b[0m\u001b[0;34m,\u001b[0m \u001b[0;34m**\u001b[0m\u001b[0mkwargs\u001b[0m\u001b[0;34m)\u001b[0m\u001b[0;34m\u001b[0m\u001b[0m\n\u001b[1;32m    258\u001b[0m \u001b[0;34m\u001b[0m\u001b[0m\n",
      "\u001b[0;32m/anaconda3/lib/python3.6/site-packages/pandas/io/parquet.py\u001b[0m in \u001b[0;36mget_engine\u001b[0;34m(engine)\u001b[0m\n\u001b[1;32m     27\u001b[0m             \u001b[0;32mpass\u001b[0m\u001b[0;34m\u001b[0m\u001b[0m\n\u001b[1;32m     28\u001b[0m \u001b[0;34m\u001b[0m\u001b[0m\n\u001b[0;32m---> 29\u001b[0;31m         raise ImportError(\"Unable to find a usable engine; \"\n\u001b[0m\u001b[1;32m     30\u001b[0m                           \u001b[0;34m\"tried using: 'pyarrow', 'fastparquet'.\\n\"\u001b[0m\u001b[0;34m\u001b[0m\u001b[0m\n\u001b[1;32m     31\u001b[0m                           \u001b[0;34m\"pyarrow or fastparquet is required for parquet \"\u001b[0m\u001b[0;34m\u001b[0m\u001b[0m\n",
      "\u001b[0;31mImportError\u001b[0m: Unable to find a usable engine; tried using: 'pyarrow', 'fastparquet'.\npyarrow or fastparquet is required for parquet support"
     ]
    }
   ],
   "source": [
    "c = client()\n",
    "\n",
    "c.load_table_from_dataframe(clean, table)"
   ]
  },
  {
   "cell_type": "code",
   "execution_count": 20,
   "metadata": {},
   "outputs": [
    {
     "name": "stdout",
     "output_type": "stream",
     "text": [
      "Solving environment: done\n",
      "\n",
      "## Package Plan ##\n",
      "\n",
      "  environment location: /anaconda3/envs/python3.7\n",
      "\n",
      "  added / updated specs: \n",
      "    - pyarrow\n",
      "\n",
      "\n",
      "The following packages will be downloaded:\n",
      "\n",
      "    package                    |            build\n",
      "    ---------------------------|-----------------\n",
      "    jupyter_client-5.2.3       |             py_1          59 KB  conda-forge\n",
      "    python.app-1.2             |         py36_200          12 KB  conda-forge\n",
      "    pycodestyle-2.4.0          |             py_1          34 KB  conda-forge\n",
      "    seaborn-0.9.0              |             py_0         159 KB  conda-forge\n",
      "    ipython-7.0.1              |   py36h24bf2e0_0         1.0 MB  conda-forge\n",
      "    docutils-0.14              |        py36_1001         694 KB  conda-forge\n",
      "    pandocfilters-1.4.2        |             py_1           9 KB  conda-forge\n",
      "    appnope-0.1.0              |        py36_1000           8 KB  conda-forge\n",
      "    babel-2.6.0                |             py_1         5.6 MB  conda-forge\n",
      "    pysocks-1.6.8              |        py36_1002          22 KB  conda-forge\n",
      "    urllib3-1.23               |        py36_1001         151 KB  conda-forge\n",
      "    jsonschema-2.6.0           |        py36_1002          62 KB  conda-forge\n",
      "    wheel-0.32.1               |           py36_0          34 KB  conda-forge\n",
      "    patsy-0.5.0                |             py_1         184 KB  conda-forge\n",
      "    snowballstemmer-1.2.1      |             py_1          32 KB  conda-forge\n",
      "    pickleshare-0.7.5          |        py36_1000          12 KB  conda-forge\n",
      "    simplegeneric-0.8.1        |             py_1           7 KB  conda-forge\n",
      "    nbformat-4.4.0             |             py_1          91 KB  conda-forge\n",
      "    certifi-2018.8.24          |        py36_1001         139 KB  conda-forge\n",
      "    bzip2-1.0.6                |                1         145 KB  conda-forge\n",
      "    packaging-18.0             |             py_0          19 KB  conda-forge\n",
      "    keyring-15.1.0             |           py36_0          45 KB  conda-forge\n",
      "    simplejson-3.16.1          |   py36h470a237_0          98 KB  conda-forge\n",
      "    thrift-0.11.0              |   py36hfc679d8_1         101 KB  conda-forge\n",
      "    boost-cpp-1.67.0           |       h3a22d5f_0        18.2 MB  conda-forge\n",
      "    imagesize-1.1.0            |             py_0           6 KB  conda-forge\n",
      "    six-1.11.0                 |        py36_1001          21 KB  conda-forge\n",
      "    setuptools-40.4.3          |           py36_0         555 KB  conda-forge\n",
      "    llvmlite-0.25.0            |           py36_0         8.7 MB  conda-forge\n",
      "    beautifulsoup4-4.6.3       |        py36_1000         141 KB  conda-forge\n",
      "    tornado-5.1.1              |   py36h470a237_0         662 KB  conda-forge\n",
      "    cloudpickle-0.6.0          |             py_0          16 KB  conda-forge\n",
      "    pip-18.1                   |        py36_1000         1.8 MB  conda-forge\n",
      "    sphinx-1.8.1               |        py36_1000         1.8 MB  conda-forge\n",
      "    pytest-3.8.2               |        py36_1000         317 KB  conda-forge\n",
      "    requests-2.19.1            |        py36_1001          95 KB  conda-forge\n",
      "    wcwidth-0.1.7              |             py_1          17 KB  conda-forge\n",
      "    mistune-0.8.3              |   py36h470a237_2         281 KB  conda-forge\n",
      "    numba-0.40.0               |   py36hf8a1672_0         2.6 MB  conda-forge\n",
      "    psutil-5.4.7               |   py36h470a237_1         317 KB  conda-forge\n",
      "    pylint-2.1.1               |           py36_0         795 KB  conda-forge\n",
      "    mkl_random-1.0.1           |           py36_0         371 KB  conda-forge\n",
      "    pyflakes-2.0.0             |             py_0          41 KB  conda-forge\n",
      "    sphinxcontrib-1.0          |           py36_1           3 KB\n",
      "    cffi-1.11.5                |   py36h5e8e0c9_1         209 KB  conda-forge\n",
      "    networkx-2.2               |             py_1         1.1 MB  conda-forge\n",
      "    sip-4.19.8                 |   py36hfc679d8_0         253 KB  conda-forge\n",
      "    spyder-kernels-1.1.0       |             py_0          36 KB  conda-forge\n",
      "    typed-ast-1.1.0            |           py36_0         207 KB  conda-forge\n",
      "    parso-0.3.1                |             py_0          59 KB  conda-forge\n",
      "    numpydoc-0.8.0             |             py_1          21 KB  conda-forge\n",
      "    tqdm-4.26.0                |             py_0          36 KB  conda-forge\n",
      "    cryptography-2.3.1         |   py36hdffb7b8_0         567 KB  conda-forge\n",
      "    pyopenssl-18.0.0           |        py36_1000          80 KB  conda-forge\n",
      "    httplib2-0.11.3            |        py36_1001         114 KB  conda-forge\n",
      "    ptyprocess-0.6.0           |        py36_1000          22 KB  conda-forge\n",
      "    wrapt-1.10.11              |   py36h470a237_1          42 KB  conda-forge\n",
      "    astroid-2.0.3              |           py36_0         247 KB  conda-forge\n",
      "    mkl_fft-1.0.6              |           py36_0         159 KB  conda-forge\n",
      "    idna-2.7                   |        py36_1002         131 KB  conda-forge\n",
      "    numpy-1.15.2               |   py36h6a91979_1          48 KB\n",
      "    traitlets-4.3.2            |        py36_1000         131 KB  conda-forge\n",
      "    python-3.6.6               |       hc167b69_0        15.4 MB\n",
      "    rope-0.10.7                |             py_1         113 KB  conda-forge\n",
      "    kiwisolver-1.0.1           |   py36h2d50403_2          65 KB  conda-forge\n",
      "    jinja2-2.10                |             py_1          89 KB  conda-forge\n",
      "    webencodings-0.5.1         |             py_1          12 KB  conda-forge\n",
      "    asn1crypto-0.24.0          |        py36_1003         154 KB  conda-forge\n",
      "    pexpect-4.6.0              |        py36_1000          75 KB  conda-forge\n",
      "    mccabe-0.6.1               |             py_1           8 KB  conda-forge\n",
      "    pygments-2.2.0             |             py_1         622 KB  conda-forge\n",
      "    prompt_toolkit-2.0.5       |             py_0         216 KB  conda-forge\n",
      "    statsmodels-0.9.0          |           py36_0         8.9 MB  conda-forge\n",
      "    ipython_genutils-0.2.0     |             py_1          21 KB  conda-forge\n",
      "    ujson-1.35                 |   py36h470a237_1          25 KB  conda-forge\n",
      "    jedi-0.13.1                |        py36_1000         228 KB  conda-forge\n",
      "    alabaster-0.7.12           |             py_0          15 KB  conda-forge\n",
      "    qtawesome-0.5.1            |     pyh8a2030e_1         563 KB  conda-forge\n",
      "    pyarrow-0.11.0             |   py36hfc679d8_0         1.9 MB  conda-forge\n",
      "    cryptography-vectors-2.3.1 |        py36_1000        30.5 MB  conda-forge\n",
      "    ipykernel-5.1.0            |     pyh24bf2e0_0          77 KB  conda-forge\n",
      "    lazy-object-proxy-1.3.1    |   py36h470a237_0          29 KB  conda-forge\n",
      "    markupsafe-1.0             |   py36h470a237_1          23 KB  conda-forge\n",
      "    fastparquet-0.1.6          |           py36_0         222 KB  conda-forge\n",
      "    entrypoints-0.2.3          |        py36_1002           9 KB  conda-forge\n",
      "    scipy-1.1.0                |   py36h28f7352_1        15.4 MB\n",
      "    sqlalchemy-1.2.12          |   py36h470a237_0         1.6 MB  conda-forge\n",
      "    sphinxcontrib-websupport-1.1.0|             py_1          20 KB  conda-forge\n",
      "    numpy-base-1.15.2          |   py36h8a80b8c_1         4.1 MB\n",
      "    testpath-0.4.2             |        py36_1000          91 KB  conda-forge\n",
      "    more-itertools-4.3.0       |        py36_1000          83 KB  conda-forge\n",
      "    pandas-0.23.4              |   py36hf8a1672_0        10.2 MB  conda-forge\n",
      "    isort-4.3.4                |        py36_1000          58 KB  conda-forge\n",
      "    cycler-0.10.0              |             py_1           8 KB  conda-forge\n",
      "    qtpy-1.5.1                 |     pyh8a2030e_0          28 KB  conda-forge\n",
      "    pycparser-2.19             |             py_0          87 KB  conda-forge\n",
      "    bleach-3.0.1               |             py_0         125 KB  conda-forge\n",
      "    matplotlib-3.0.0           |   py36h45c993b_1         6.8 MB  conda-forge\n",
      "    pyzmq-17.1.2               |   py36hae99301_1         439 KB  conda-forge\n",
      "    chardet-3.0.4              |        py36_1003         190 KB  conda-forge\n",
      "    pytz-2018.5                |             py_0         193 KB  conda-forge\n",
      "    arrow-cpp-0.11.0           |   py36hccec0d8_0         4.9 MB  conda-forge\n",
      "    pyparsing-2.2.2            |             py_0          51 KB  conda-forge\n",
      "    ------------------------------------------------------------\n",
      "                                           Total:       152.3 MB\n",
      "\n",
      "The following NEW packages will be INSTALLED:\n",
      "\n",
      "    arrow-cpp:                0.11.0-py36hccec0d8_0  conda-forge\n",
      "    boost-cpp:                1.67.0-h3a22d5f_0      conda-forge\n",
      "    bzip2:                    1.0.6-1                conda-forge\n",
      "    cryptography-vectors:     2.3.1-py36_1000        conda-forge\n",
      "    pyarrow:                  0.11.0-py36hfc679d8_0  conda-forge\n",
      "    typed-ast:                1.1.0-py36_0           conda-forge\n",
      "\n",
      "The following packages will be UPDATED:\n",
      "\n",
      "    alabaster:                0.7.11-py37_0                      --> 0.7.12-py_0            conda-forge\n",
      "    appnope:                  0.1.0-py37_0                       --> 0.1.0-py36_1000        conda-forge\n",
      "    asn1crypto:               0.24.0-py37_0                      --> 0.24.0-py36_1003       conda-forge\n",
      "    atomicwrites:             1.2.1-py_0             conda-forge --> 1.2.1-py_0             conda-forge\n",
      "    attrs:                    18.2.0-py_0            conda-forge --> 18.2.0-py_0            conda-forge\n",
      "    babel:                    2.6.0-py37_0                       --> 2.6.0-py_1             conda-forge\n",
      "    backcall:                 0.1.0-py37_0                       --> 0.1.0-py_0             conda-forge\n",
      "    beautifulsoup4:           4.6.3-py37_0                       --> 4.6.3-py36_1000        conda-forge\n",
      "    bleach:                   2.1.4-py37_0                       --> 3.0.1-py_0             conda-forge\n",
      "    certifi:                  2018.8.24-py37_1001    conda-forge --> 2018.8.24-py36_1001    conda-forge\n",
      "    cffi:                     1.11.5-py37h6174b99_1              --> 1.11.5-py36h5e8e0c9_1  conda-forge\n",
      "    chardet:                  3.0.4-py37_1                       --> 3.0.4-py36_1003        conda-forge\n",
      "    cloudpickle:              0.5.5-py37_0                       --> 0.6.0-py_0             conda-forge\n",
      "    cryptography:             2.3.1-py37hdbc3d79_0               --> 2.3.1-py36hdffb7b8_0   conda-forge\n",
      "    cycler:                   0.10.0-py37_0                      --> 0.10.0-py_1            conda-forge\n",
      "    decorator:                4.3.0-py37_0                       --> 4.3.0-py_0             conda-forge\n",
      "    docutils:                 0.14-py37_0                        --> 0.14-py36_1001         conda-forge\n",
      "    entrypoints:              0.2.3-py37_2                       --> 0.2.3-py36_1002        conda-forge\n",
      "    fastparquet:              0.1.6-py37h1de35cc_0               --> 0.1.6-py36_0           conda-forge\n",
      "    google-api-python-client: 1.6.7-py_0             conda-forge --> 1.6.7-py_0             conda-forge\n",
      "    html5lib:                 1.0.1-py37_0                       --> 1.0.1-py_0             conda-forge\n",
      "    httplib2:                 0.11.3-py37_1          conda-forge --> 0.11.3-py36_1001       conda-forge\n",
      "    idna:                     2.7-py37_0                         --> 2.7-py36_1002          conda-forge\n",
      "    imagesize:                1.1.0-py37_0                       --> 1.1.0-py_0             conda-forge\n",
      "    ipykernel:                4.9.0-py37_0                       --> 5.1.0-pyh24bf2e0_0     conda-forge\n",
      "    ipython:                  6.5.0-py37_0                       --> 7.0.1-py36h24bf2e0_0   conda-forge\n",
      "    ipython_genutils:         0.2.0-py37_0                       --> 0.2.0-py_1             conda-forge\n",
      "    isort:                    4.3.4-py37_0                       --> 4.3.4-py36_1000        conda-forge\n",
      "    jedi:                     0.12.1-py37_0                      --> 0.13.1-py36_1000       conda-forge\n",
      "    jinja2:                   2.10-py37_0                        --> 2.10-py_1              conda-forge\n",
      "    jsonschema:               2.6.0-py37_0                       --> 2.6.0-py36_1002        conda-forge\n",
      "    jupyter_client:           5.2.3-py37_0                       --> 5.2.3-py_1             conda-forge\n",
      "    jupyter_core:             4.4.0-py37_0                       --> 4.4.0-py_0             conda-forge\n",
      "    keyring:                  13.2.1-py37_0                      --> 15.1.0-py36_0          conda-forge\n",
      "    kiwisolver:               1.0.1-py37h0a44026_0               --> 1.0.1-py36h2d50403_2   conda-forge\n",
      "    llvmlite:                 0.25.0-py37h8c7ce04_0              --> 0.25.0-py36_0          conda-forge\n",
      "    markupsafe:               1.0-py37h1de35cc_1                 --> 1.0-py36h470a237_1     conda-forge\n",
      "    matplotlib:               2.2.3-py37h54f8f79_0               --> 3.0.0-py36h45c993b_1   conda-forge\n",
      "    mccabe:                   0.6.1-py37_1                       --> 0.6.1-py_1             conda-forge\n",
      "    mistune:                  0.8.3-py37h1de35cc_1               --> 0.8.3-py36h470a237_2   conda-forge\n",
      "    mkl_fft:                  1.0.4-py37h5d10147_1               --> 1.0.6-py36_0           conda-forge\n",
      "    more-itertools:           4.3.0-py37_1000        conda-forge --> 4.3.0-py36_1000        conda-forge\n",
      "    nbconvert:                5.3.1-py37_0                       --> 5.3.1-py_1             conda-forge\n",
      "    nbformat:                 4.4.0-py37_0                       --> 4.4.0-py_1             conda-forge\n",
      "    networkx:                 2.1-py37_0                         --> 2.2-py_1               conda-forge\n",
      "    numba:                    0.40.0-py37h6440ff4_0              --> 0.40.0-py36hf8a1672_0  conda-forge\n",
      "    numpy:                    1.15.1-py37h6a91979_0              --> 1.15.2-py36h6a91979_1             \n",
      "    numpy-base:               1.15.1-py37h8a80b8c_0              --> 1.15.2-py36h8a80b8c_1             \n",
      "    numpydoc:                 0.8.0-py37_0                       --> 0.8.0-py_1             conda-forge\n",
      "    oauth2client:             4.1.2-py_1             conda-forge --> 4.1.2-py_1             conda-forge\n",
      "    packaging:                17.1-py37_0                        --> 18.0-py_0              conda-forge\n",
      "    pandas:                   0.23.3-py37h6440ff4_0              --> 0.23.4-py36hf8a1672_0  conda-forge\n",
      "    pandas-gbq:               0.2.1-py_0             conda-forge --> 0.2.1-py_0             conda-forge\n",
      "    pandocfilters:            1.4.2-py37_1                       --> 1.4.2-py_1             conda-forge\n",
      "    parso:                    0.3.1-py37_0                       --> 0.3.1-py_0             conda-forge\n",
      "    patsy:                    0.5.0-py37_0                       --> 0.5.0-py_1             conda-forge\n",
      "    pexpect:                  4.6.0-py37_0                       --> 4.6.0-py36_1000        conda-forge\n",
      "    pickleshare:              0.7.4-py37_0                       --> 0.7.5-py36_1000        conda-forge\n",
      "    pip:                      10.0.1-py37_0                      --> 18.1-py36_1000         conda-forge\n",
      "    pluggy:                   0.7.1-py_0             conda-forge --> 0.7.1-py_0             conda-forge\n",
      "    prompt_toolkit:           1.0.15-py37_0                      --> 2.0.5-py_0             conda-forge\n",
      "    psutil:                   5.4.7-py37h1de35cc_0               --> 5.4.7-py36h470a237_1   conda-forge\n",
      "    ptyprocess:               0.6.0-py37_0                       --> 0.6.0-py36_1000        conda-forge\n",
      "    py:                       1.6.0-py_0             conda-forge --> 1.6.0-py_0             conda-forge\n",
      "    pyasn1:                   0.4.4-py_0             conda-forge --> 0.4.4-py_0             conda-forge\n",
      "    pyasn1-modules:           0.2.1-py_0             conda-forge --> 0.2.1-py_0             conda-forge\n",
      "    pycodestyle:              2.4.0-py37_0                       --> 2.4.0-py_1             conda-forge\n",
      "    pycparser:                2.18-py37_1                        --> 2.19-py_0              conda-forge\n",
      "    pyflakes:                 2.0.0-py37_0                       --> 2.0.0-py_0             conda-forge\n",
      "    pygments:                 2.2.0-py37_0                       --> 2.2.0-py_1             conda-forge\n",
      "    pylint:                   2.1.1-py37_0                       --> 2.1.1-py36_0           conda-forge\n",
      "    pyopenssl:                18.0.0-py37_0                      --> 18.0.0-py36_1000       conda-forge\n",
      "    pyparsing:                2.2.0-py37_1                       --> 2.2.2-py_0             conda-forge\n",
      "    pysocks:                  1.6.8-py37_0                       --> 1.6.8-py36_1002        conda-forge\n",
      "    pytest:                   3.8.2-py37_1000        conda-forge --> 3.8.2-py36_1000        conda-forge\n",
      "    python-dateutil:          2.7.3-py37_0                       --> 2.7.3-py_0             conda-forge\n",
      "    pytz:                     2018.5-py37_0                      --> 2018.5-py_0            conda-forge\n",
      "    pyzmq:                    17.1.2-py37h1de35cc_0              --> 17.1.2-py36hae99301_1  conda-forge\n",
      "    qtawesome:                0.4.4-py37_0                       --> 0.5.1-pyh8a2030e_1     conda-forge\n",
      "    qtpy:                     1.5.0-py37_0                       --> 1.5.1-pyh8a2030e_0     conda-forge\n",
      "    requests:                 2.19.1-py37_0                      --> 2.19.1-py36_1001       conda-forge\n",
      "    rsa:                      3.4.2-py_1             conda-forge --> 3.4.2-py_1             conda-forge\n",
      "    scipy:                    1.1.0-py37h28f7352_1               --> 1.1.0-py36h28f7352_1              \n",
      "    seaborn:                  0.9.0-py37_0                       --> 0.9.0-py_0             conda-forge\n",
      "    setuptools:               39.2.0-py37_0                      --> 40.4.3-py36_0          conda-forge\n",
      "    simplejson:               3.16.0-py37h1de35cc_0              --> 3.16.1-py36h470a237_0  conda-forge\n",
      "    six:                      1.11.0-py37_1                      --> 1.11.0-py36_1001       conda-forge\n",
      "    snowballstemmer:          1.2.1-py37_0                       --> 1.2.1-py_1             conda-forge\n",
      "    sphinx:                   1.7.8-py37_0                       --> 1.8.1-py36_1000        conda-forge\n",
      "    sphinxcontrib:            1.0-py37_1                         --> 1.0-py36_1                        \n",
      "    sphinxcontrib-websupport: 1.1.0-py37_1                       --> 1.1.0-py_1             conda-forge\n",
      "    spyder-kernels:           0.2.6-py37_0                       --> 1.1.0-py_0             conda-forge\n",
      "    sqlalchemy:               1.2.11-py37h1de35cc_0              --> 1.2.12-py36h470a237_0  conda-forge\n",
      "    statsmodels:              0.9.0-py37h1d22016_0               --> 0.9.0-py36_0           conda-forge\n",
      "    testpath:                 0.3.1-py37_0                       --> 0.4.2-py36_1000        conda-forge\n",
      "    thrift:                   0.11.0-py37hfc679d8_1  conda-forge --> 0.11.0-py36hfc679d8_1  conda-forge\n",
      "    tornado:                  5.1-py37h1de35cc_0                 --> 5.1.1-py36h470a237_0   conda-forge\n",
      "    tqdm:                     4.25.0-py37h28b3542_0              --> 4.26.0-py_0            conda-forge\n",
      "    traitlets:                4.3.2-py37_0                       --> 4.3.2-py36_1000        conda-forge\n",
      "    ujson:                    1.35-py37h1de35cc_0                --> 1.35-py36h470a237_1    conda-forge\n",
      "    uritemplate:              3.0.0-py_1             conda-forge --> 3.0.0-py_1             conda-forge\n",
      "    urllib3:                  1.23-py37_0                        --> 1.23-py36_1001         conda-forge\n",
      "    wcwidth:                  0.1.7-py37_0                       --> 0.1.7-py_1             conda-forge\n",
      "    webencodings:             0.5.1-py37_1                       --> 0.5.1-py_1             conda-forge\n",
      "    wheel:                    0.31.1-py37_0                      --> 0.32.1-py36_0          conda-forge\n",
      "\n",
      "The following packages will be DOWNGRADED:\n",
      "\n",
      "    astroid:                  2.0.4-py37_0                       --> 2.0.3-py36_0           conda-forge\n",
      "    lazy-object-proxy:        1.3.1-py37h1de35cc_2               --> 1.3.1-py36h470a237_0   conda-forge\n",
      "    mkl_random:               1.0.1-py37h5d10147_1               --> 1.0.1-py36_0           conda-forge\n",
      "    python:                   3.7.0-hc167b69_0                   --> 3.6.6-hc167b69_0                  \n",
      "    python.app:               2-py37_8                           --> 1.2-py36_200           conda-forge\n",
      "    rope:                     0.11.0-py37_0                      --> 0.10.7-py_1            conda-forge\n",
      "    simplegeneric:            0.8.1-py37_2                       --> 0.8.1-py_1             conda-forge\n",
      "    sip:                      4.19.12-py37h0a44026_0             --> 4.19.8-py36hfc679d8_0  conda-forge\n",
      "    wrapt:                    1.10.11-py37h1de35cc_2             --> 1.10.11-py36h470a237_1 conda-forge\n",
      "\n",
      "\n",
      "Downloading and Extracting Packages\n"
     ]
    },
    {
     "name": "stdout",
     "output_type": "stream",
     "text": [
      "jupyter_client-5.2.3 | 59 KB     | ##################################### | 100% \n",
      "python.app-1.2       | 12 KB     | ##################################### | 100% \n",
      "pycodestyle-2.4.0    | 34 KB     | ##################################### | 100% \n",
      "seaborn-0.9.0        | 159 KB    | ##################################### | 100% \n",
      "ipython-7.0.1        | 1.0 MB    | ##################################### | 100% \n",
      "docutils-0.14        | 694 KB    | ##################################### | 100% \n",
      "pandocfilters-1.4.2  | 9 KB      | ##################################### | 100% \n",
      "appnope-0.1.0        | 8 KB      | ##################################### | 100% \n",
      "babel-2.6.0          | 5.6 MB    | ##################################### | 100% \n",
      "pysocks-1.6.8        | 22 KB     | ##################################### | 100% \n",
      "urllib3-1.23         | 151 KB    | ##################################### | 100% \n",
      "jsonschema-2.6.0     | 62 KB     | ##################################### | 100% \n",
      "wheel-0.32.1         | 34 KB     | ##################################### | 100% \n",
      "patsy-0.5.0          | 184 KB    | ##################################### | 100% \n",
      "snowballstemmer-1.2. | 32 KB     | ##################################### | 100% \n",
      "pickleshare-0.7.5    | 12 KB     | ##################################### | 100% \n",
      "simplegeneric-0.8.1  | 7 KB      | ##################################### | 100% \n",
      "nbformat-4.4.0       | 91 KB     | ##################################### | 100% \n",
      "certifi-2018.8.24    | 139 KB    | ##################################### | 100% \n",
      "bzip2-1.0.6          | 145 KB    | ##################################### | 100% \n",
      "packaging-18.0       | 19 KB     | ##################################### | 100% \n",
      "keyring-15.1.0       | 45 KB     | ##################################### | 100% \n",
      "simplejson-3.16.1    | 98 KB     | ##################################### | 100% \n",
      "thrift-0.11.0        | 101 KB    | ##################################### | 100% \n",
      "boost-cpp-1.67.0     | 18.2 MB   | ##################################### | 100% \n",
      "imagesize-1.1.0      | 6 KB      | ##################################### | 100% \n",
      "six-1.11.0           | 21 KB     | ##################################### | 100% \n",
      "setuptools-40.4.3    | 555 KB    | ##################################### | 100% \n",
      "llvmlite-0.25.0      | 8.7 MB    | ##################################### | 100% \n",
      "beautifulsoup4-4.6.3 | 141 KB    | ##################################### | 100% \n",
      "tornado-5.1.1        | 662 KB    | ##################################### | 100% \n",
      "cloudpickle-0.6.0    | 16 KB     | ##################################### | 100% \n",
      "pip-18.1             | 1.8 MB    | ##################################### | 100% \n",
      "sphinx-1.8.1         | 1.8 MB    | ##################################### | 100% \n",
      "pytest-3.8.2         | 317 KB    | ##################################### | 100% \n",
      "requests-2.19.1      | 95 KB     | ##################################### | 100% \n",
      "wcwidth-0.1.7        | 17 KB     | ##################################### | 100% \n",
      "mistune-0.8.3        | 281 KB    | ##################################### | 100% \n",
      "numba-0.40.0         | 2.6 MB    | ##################################### | 100% \n",
      "psutil-5.4.7         | 317 KB    | ##################################### | 100% \n",
      "pylint-2.1.1         | 795 KB    | ##################################### | 100% \n",
      "mkl_random-1.0.1     | 371 KB    | ##################################### | 100% \n",
      "pyflakes-2.0.0       | 41 KB     | ##################################### | 100% \n",
      "sphinxcontrib-1.0    | 3 KB      | ##################################### | 100% \n",
      "cffi-1.11.5          | 209 KB    | ##################################### | 100% \n",
      "networkx-2.2         | 1.1 MB    | ##################################### | 100% \n",
      "sip-4.19.8           | 253 KB    | ##################################### | 100% \n",
      "spyder-kernels-1.1.0 | 36 KB     | ##################################### | 100% \n",
      "typed-ast-1.1.0      | 207 KB    | ##################################### | 100% \n",
      "parso-0.3.1          | 59 KB     | ##################################### | 100% \n",
      "numpydoc-0.8.0       | 21 KB     | ##################################### | 100% \n",
      "tqdm-4.26.0          | 36 KB     | ##################################### | 100% \n",
      "cryptography-2.3.1   | 567 KB    | ##################################### | 100% \n",
      "pyopenssl-18.0.0     | 80 KB     | ##################################### | 100% \n",
      "httplib2-0.11.3      | 114 KB    | ##################################### | 100% \n",
      "ptyprocess-0.6.0     | 22 KB     | ##################################### | 100% \n",
      "wrapt-1.10.11        | 42 KB     | ##################################### | 100% \n",
      "astroid-2.0.3        | 247 KB    | ##################################### | 100% \n",
      "mkl_fft-1.0.6        | 159 KB    | ##################################### | 100% \n",
      "idna-2.7             | 131 KB    | ##################################### | 100% \n",
      "numpy-1.15.2         | 48 KB     | ##################################### | 100% \n",
      "traitlets-4.3.2      | 131 KB    | ##################################### | 100% \n",
      "python-3.6.6         | 15.4 MB   | ##################################### | 100% \n",
      "rope-0.10.7          | 113 KB    | ##################################### | 100% \n",
      "kiwisolver-1.0.1     | 65 KB     | ##################################### | 100% \n",
      "jinja2-2.10          | 89 KB     | ##################################### | 100% \n",
      "webencodings-0.5.1   | 12 KB     | ##################################### | 100% \n",
      "asn1crypto-0.24.0    | 154 KB    | ##################################### | 100% \n",
      "pexpect-4.6.0        | 75 KB     | ##################################### | 100% \n",
      "mccabe-0.6.1         | 8 KB      | ##################################### | 100% \n",
      "pygments-2.2.0       | 622 KB    | ##################################### | 100% \n",
      "prompt_toolkit-2.0.5 | 216 KB    | ##################################### | 100% \n",
      "statsmodels-0.9.0    | 8.9 MB    | ##################################### | 100% \n",
      "ipython_genutils-0.2 | 21 KB     | ##################################### | 100% \n",
      "ujson-1.35           | 25 KB     | ##################################### | 100% \n",
      "jedi-0.13.1          | 228 KB    | ##################################### | 100% \n",
      "alabaster-0.7.12     | 15 KB     | ##################################### | 100% \n",
      "qtawesome-0.5.1      | 563 KB    | ##################################### | 100% \n",
      "pyarrow-0.11.0       | 1.9 MB    | ##################################### | 100% \n",
      "cryptography-vectors | 30.5 MB   | ##################################### | 100% \n",
      "ipykernel-5.1.0      | 77 KB     | ##################################### | 100% \n",
      "lazy-object-proxy-1. | 29 KB     | ##################################### | 100% \n",
      "markupsafe-1.0       | 23 KB     | ##################################### | 100% \n",
      "fastparquet-0.1.6    | 222 KB    | ##################################### | 100% \n",
      "entrypoints-0.2.3    | 9 KB      | ##################################### | 100% \n",
      "scipy-1.1.0          | 15.4 MB   | ##################################### | 100% \n",
      "sqlalchemy-1.2.12    | 1.6 MB    | ##################################### | 100% \n",
      "sphinxcontrib-websup | 20 KB     | ##################################### | 100% \n",
      "numpy-base-1.15.2    | 4.1 MB    | ##################################### | 100% \n",
      "testpath-0.4.2       | 91 KB     | ##################################### | 100% \n",
      "more-itertools-4.3.0 | 83 KB     | ##################################### | 100% \n",
      "pandas-0.23.4        | 10.2 MB   | ##################################### | 100% \n",
      "isort-4.3.4          | 58 KB     | ##################################### | 100% \n",
      "cycler-0.10.0        | 8 KB      | ##################################### | 100% \n",
      "qtpy-1.5.1           | 28 KB     | ##################################### | 100% \n",
      "pycparser-2.19       | 87 KB     | ##################################### | 100% \n",
      "bleach-3.0.1         | 125 KB    | ##################################### | 100% \n",
      "matplotlib-3.0.0     | 6.8 MB    | ##################################### | 100% \n",
      "pyzmq-17.1.2         | 439 KB    | ##################################### | 100% \n",
      "chardet-3.0.4        | 190 KB    | ##################################### | 100% \n",
      "pytz-2018.5          | 193 KB    | ##################################### | 100% \n",
      "arrow-cpp-0.11.0     | 4.9 MB    | ##################################### | 100% \n",
      "pyparsing-2.2.2      | 51 KB     | ##################################### | 100% \n",
      "Preparing transaction: done\n",
      "Verifying transaction: done\n",
      "Executing transaction: done\n"
     ]
    }
   ],
   "source": [
    "! conda install -c conda-forge pyarrow -y"
   ]
  },
  {
   "cell_type": "code",
   "execution_count": 19,
   "metadata": {},
   "outputs": [
    {
     "ename": "ImportError",
     "evalue": "fastparquet is required for parquet support\n\nyou can install via conda\nconda install fastparquet -c conda-forge\n\nor via pip\npip install -U fastparquet",
     "output_type": "error",
     "traceback": [
      "\u001b[0;31m---------------------------------------------------------------------------\u001b[0m",
      "\u001b[0;31mModuleNotFoundError\u001b[0m                       Traceback (most recent call last)",
      "\u001b[0;32m/anaconda3/lib/python3.6/site-packages/pandas/io/parquet.py\u001b[0m in \u001b[0;36m__init__\u001b[0;34m(self)\u001b[0m\n\u001b[1;32m    179\u001b[0m         \u001b[0;32mtry\u001b[0m\u001b[0;34m:\u001b[0m\u001b[0;34m\u001b[0m\u001b[0m\n\u001b[0;32m--> 180\u001b[0;31m             \u001b[0;32mimport\u001b[0m \u001b[0mfastparquet\u001b[0m\u001b[0;34m\u001b[0m\u001b[0m\n\u001b[0m\u001b[1;32m    181\u001b[0m         \u001b[0;32mexcept\u001b[0m \u001b[0mImportError\u001b[0m\u001b[0;34m:\u001b[0m\u001b[0;34m\u001b[0m\u001b[0m\n",
      "\u001b[0;31mModuleNotFoundError\u001b[0m: No module named 'fastparquet'",
      "\nDuring handling of the above exception, another exception occurred:\n",
      "\u001b[0;31mImportError\u001b[0m                               Traceback (most recent call last)",
      "\u001b[0;32m<ipython-input-19-654392ff94f9>\u001b[0m in \u001b[0;36m<module>\u001b[0;34m()\u001b[0m\n\u001b[0;32m----> 1\u001b[0;31m \u001b[0mclean\u001b[0m\u001b[0;34m.\u001b[0m\u001b[0mto_parquet\u001b[0m\u001b[0;34m(\u001b[0m\u001b[0;34m'parquet_test'\u001b[0m\u001b[0;34m,\u001b[0m \u001b[0mengine\u001b[0m\u001b[0;34m=\u001b[0m\u001b[0;34m'fastparquet'\u001b[0m\u001b[0;34m)\u001b[0m\u001b[0;34m\u001b[0m\u001b[0m\n\u001b[0m",
      "\u001b[0;32m/anaconda3/lib/python3.6/site-packages/pandas/core/frame.py\u001b[0m in \u001b[0;36mto_parquet\u001b[0;34m(self, fname, engine, compression, **kwargs)\u001b[0m\n\u001b[1;32m   1940\u001b[0m         \u001b[0;32mfrom\u001b[0m \u001b[0mpandas\u001b[0m\u001b[0;34m.\u001b[0m\u001b[0mio\u001b[0m\u001b[0;34m.\u001b[0m\u001b[0mparquet\u001b[0m \u001b[0;32mimport\u001b[0m \u001b[0mto_parquet\u001b[0m\u001b[0;34m\u001b[0m\u001b[0m\n\u001b[1;32m   1941\u001b[0m         to_parquet(self, fname, engine,\n\u001b[0;32m-> 1942\u001b[0;31m                    compression=compression, **kwargs)\n\u001b[0m\u001b[1;32m   1943\u001b[0m \u001b[0;34m\u001b[0m\u001b[0m\n\u001b[1;32m   1944\u001b[0m     @Substitution(header='Write out the column names. If a list of strings '\n",
      "\u001b[0;32m/anaconda3/lib/python3.6/site-packages/pandas/io/parquet.py\u001b[0m in \u001b[0;36mto_parquet\u001b[0;34m(df, path, engine, compression, **kwargs)\u001b[0m\n\u001b[1;32m    254\u001b[0m         \u001b[0mAdditional\u001b[0m \u001b[0mkeyword\u001b[0m \u001b[0marguments\u001b[0m \u001b[0mpassed\u001b[0m \u001b[0mto\u001b[0m \u001b[0mthe\u001b[0m \u001b[0mengine\u001b[0m\u001b[0;34m\u001b[0m\u001b[0m\n\u001b[1;32m    255\u001b[0m     \"\"\"\n\u001b[0;32m--> 256\u001b[0;31m     \u001b[0mimpl\u001b[0m \u001b[0;34m=\u001b[0m \u001b[0mget_engine\u001b[0m\u001b[0;34m(\u001b[0m\u001b[0mengine\u001b[0m\u001b[0;34m)\u001b[0m\u001b[0;34m\u001b[0m\u001b[0m\n\u001b[0m\u001b[1;32m    257\u001b[0m     \u001b[0;32mreturn\u001b[0m \u001b[0mimpl\u001b[0m\u001b[0;34m.\u001b[0m\u001b[0mwrite\u001b[0m\u001b[0;34m(\u001b[0m\u001b[0mdf\u001b[0m\u001b[0;34m,\u001b[0m \u001b[0mpath\u001b[0m\u001b[0;34m,\u001b[0m \u001b[0mcompression\u001b[0m\u001b[0;34m=\u001b[0m\u001b[0mcompression\u001b[0m\u001b[0;34m,\u001b[0m \u001b[0;34m**\u001b[0m\u001b[0mkwargs\u001b[0m\u001b[0;34m)\u001b[0m\u001b[0;34m\u001b[0m\u001b[0m\n\u001b[1;32m    258\u001b[0m \u001b[0;34m\u001b[0m\u001b[0m\n",
      "\u001b[0;32m/anaconda3/lib/python3.6/site-packages/pandas/io/parquet.py\u001b[0m in \u001b[0;36mget_engine\u001b[0;34m(engine)\u001b[0m\n\u001b[1;32m     38\u001b[0m         \u001b[0;32mreturn\u001b[0m \u001b[0mPyArrowImpl\u001b[0m\u001b[0;34m(\u001b[0m\u001b[0;34m)\u001b[0m\u001b[0;34m\u001b[0m\u001b[0m\n\u001b[1;32m     39\u001b[0m     \u001b[0;32melif\u001b[0m \u001b[0mengine\u001b[0m \u001b[0;34m==\u001b[0m \u001b[0;34m'fastparquet'\u001b[0m\u001b[0;34m:\u001b[0m\u001b[0;34m\u001b[0m\u001b[0m\n\u001b[0;32m---> 40\u001b[0;31m         \u001b[0;32mreturn\u001b[0m \u001b[0mFastParquetImpl\u001b[0m\u001b[0;34m(\u001b[0m\u001b[0;34m)\u001b[0m\u001b[0;34m\u001b[0m\u001b[0m\n\u001b[0m\u001b[1;32m     41\u001b[0m \u001b[0;34m\u001b[0m\u001b[0m\n\u001b[1;32m     42\u001b[0m \u001b[0;34m\u001b[0m\u001b[0m\n",
      "\u001b[0;32m/anaconda3/lib/python3.6/site-packages/pandas/io/parquet.py\u001b[0m in \u001b[0;36m__init__\u001b[0;34m(self)\u001b[0m\n\u001b[1;32m    181\u001b[0m         \u001b[0;32mexcept\u001b[0m \u001b[0mImportError\u001b[0m\u001b[0;34m:\u001b[0m\u001b[0;34m\u001b[0m\u001b[0m\n\u001b[1;32m    182\u001b[0m             raise ImportError(\n\u001b[0;32m--> 183\u001b[0;31m                 \u001b[0;34m\"fastparquet is required for parquet support\\n\\n\"\u001b[0m\u001b[0;34m\u001b[0m\u001b[0m\n\u001b[0m\u001b[1;32m    184\u001b[0m                 \u001b[0;34m\"you can install via conda\\n\"\u001b[0m\u001b[0;34m\u001b[0m\u001b[0m\n\u001b[1;32m    185\u001b[0m                 \u001b[0;34m\"conda install fastparquet -c conda-forge\\n\"\u001b[0m\u001b[0;34m\u001b[0m\u001b[0m\n",
      "\u001b[0;31mImportError\u001b[0m: fastparquet is required for parquet support\n\nyou can install via conda\nconda install fastparquet -c conda-forge\n\nor via pip\npip install -U fastparquet"
     ]
    }
   ],
   "source": [
    "clean.to_parquet('parquet_test', engine='pyarrow')"
   ]
  },
  {
   "cell_type": "code",
   "execution_count": 21,
   "metadata": {},
   "outputs": [
    {
     "ename": "ModuleNotFoundError",
     "evalue": "No module named 'pyarrow'",
     "output_type": "error",
     "traceback": [
      "\u001b[0;31m---------------------------------------------------------------------------\u001b[0m",
      "\u001b[0;31mModuleNotFoundError\u001b[0m                       Traceback (most recent call last)",
      "\u001b[0;32m<ipython-input-21-10c32a56d69f>\u001b[0m in \u001b[0;36m<module>\u001b[0;34m()\u001b[0m\n\u001b[0;32m----> 1\u001b[0;31m \u001b[0;32mimport\u001b[0m \u001b[0mpyarrow\u001b[0m \u001b[0;32mas\u001b[0m \u001b[0mpa\u001b[0m\u001b[0;34m\u001b[0m\u001b[0m\n\u001b[0m\u001b[1;32m      2\u001b[0m \u001b[0;32mimport\u001b[0m \u001b[0mpandas\u001b[0m \u001b[0;32mas\u001b[0m \u001b[0mpd\u001b[0m\u001b[0;34m\u001b[0m\u001b[0m\n\u001b[1;32m      3\u001b[0m \u001b[0;34m\u001b[0m\u001b[0m\n\u001b[1;32m      4\u001b[0m \u001b[0mt\u001b[0m \u001b[0;34m=\u001b[0m \u001b[0mpa\u001b[0m\u001b[0;34m.\u001b[0m\u001b[0mTable\u001b[0m\u001b[0;34m.\u001b[0m\u001b[0mfrom_pandas\u001b[0m\u001b[0;34m(\u001b[0m\u001b[0mdf\u001b[0m\u001b[0;34m)\u001b[0m\u001b[0;34m\u001b[0m\u001b[0m\n",
      "\u001b[0;31mModuleNotFoundError\u001b[0m: No module named 'pyarrow'"
     ]
    }
   ],
   "source": [
    "import pyarrow as pa\n",
    "import pandas as pd\n",
    "\n",
    "t = pa.Table.from_pandas(df)"
   ]
  },
  {
   "cell_type": "code",
   "execution_count": 1,
   "metadata": {},
   "outputs": [],
   "source": [
    "## EFFICIENT PAIRWISE ANALYSIS"
   ]
  },
  {
   "cell_type": "code",
   "execution_count": 19,
   "metadata": {},
   "outputs": [
    {
     "data": {
      "text/plain": [
       "True"
      ]
     },
     "execution_count": 19,
     "metadata": {},
     "output_type": "execute_result"
    }
   ],
   "source": [
    "import numpy as np\n",
    "import itertools\n",
    "\n",
    "t = sorted(np.random.random_sample(5))\n",
    "p = list(itertools.combinations(t, 2))\n",
    "\n",
    "n = len(t)\n",
    "len(p) == (n*(n-1))/2"
   ]
  },
  {
   "cell_type": "code",
   "execution_count": 20,
   "metadata": {},
   "outputs": [
    {
     "data": {
      "text/plain": [
       "[(0.13500096508367876, 0.15239014586457245),\n",
       " (0.13500096508367876, 0.36437759312344153),\n",
       " (0.13500096508367876, 0.7192586656607752),\n",
       " (0.13500096508367876, 0.9745645751806263),\n",
       " (0.15239014586457245, 0.36437759312344153),\n",
       " (0.15239014586457245, 0.7192586656607752),\n",
       " (0.15239014586457245, 0.9745645751806263),\n",
       " (0.36437759312344153, 0.7192586656607752),\n",
       " (0.36437759312344153, 0.9745645751806263),\n",
       " (0.7192586656607752, 0.9745645751806263)]"
      ]
     },
     "execution_count": 20,
     "metadata": {},
     "output_type": "execute_result"
    }
   ],
   "source": [
    "p"
   ]
  },
  {
   "cell_type": "code",
   "execution_count": 21,
   "metadata": {},
   "outputs": [],
   "source": [
    "# get pairs of subreddit ids\n",
    "# check reddit subreddit ids are persistent over time\n",
    "# use subreddit ids (so collect data will ids, create tool to check subreddit name by id as needed)"
   ]
  },
  {
   "cell_type": "code",
   "execution_count": 24,
   "metadata": {},
   "outputs": [
    {
     "ename": "ValueError",
     "evalue": "invalid literal for int() with base 5: 'ella0'",
     "output_type": "error",
     "traceback": [
      "\u001b[0;31m---------------------------------------------------------------------------\u001b[0m",
      "\u001b[0;31mValueError\u001b[0m                                Traceback (most recent call last)",
      "\u001b[0;32m<ipython-input-24-16803f3780cb>\u001b[0m in \u001b[0;36m<module>\u001b[0;34m()\u001b[0m\n\u001b[0;32m----> 1\u001b[0;31m \u001b[0mint\u001b[0m\u001b[0;34m(\u001b[0m\u001b[0;34m'ella0'\u001b[0m\u001b[0;34m,\u001b[0m\u001b[0;36m5\u001b[0m\u001b[0;34m)\u001b[0m\u001b[0;34m\u001b[0m\u001b[0m\n\u001b[0m",
      "\u001b[0;31mValueError\u001b[0m: invalid literal for int() with base 5: 'ella0'"
     ]
    }
   ],
   "source": [
    "int('ella0',5)"
   ]
  },
  {
   "cell_type": "code",
   "execution_count": 25,
   "metadata": {},
   "outputs": [],
   "source": [
    "int?"
   ]
  },
  {
   "cell_type": "code",
   "execution_count": null,
   "metadata": {},
   "outputs": [],
   "source": []
  }
 ],
 "metadata": {
  "kernelspec": {
   "display_name": "Python 3",
   "language": "python",
   "name": "python3"
  },
  "language_info": {
   "codemirror_mode": {
    "name": "ipython",
    "version": 3
   },
   "file_extension": ".py",
   "mimetype": "text/x-python",
   "name": "python",
   "nbconvert_exporter": "python",
   "pygments_lexer": "ipython3",
   "version": "3.6.6"
  }
 },
 "nbformat": 4,
 "nbformat_minor": 2
}
